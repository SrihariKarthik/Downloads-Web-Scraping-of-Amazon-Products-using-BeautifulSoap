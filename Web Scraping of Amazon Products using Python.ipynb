{
 "cells": [
  {
   "cell_type": "code",
   "execution_count": 423,
   "id": "5f63675f",
   "metadata": {},
   "outputs": [],
   "source": [
    "# import libraries \n",
    "\n",
    "from bs4 import BeautifulSoup\n",
    "import requests\n",
    "import time\n",
    "import datetime\n",
    "\n",
    "import smtplib"
   ]
  },
  {
   "cell_type": "code",
   "execution_count": 424,
   "id": "97033c20",
   "metadata": {},
   "outputs": [],
   "source": [
    "URL=\"https://www.amazon.in/ADRO-Cotton-Hooded-Sweatshirt-H22-1-BLR-CH-S_Beige_S/dp/B0B944J8CV/ref=rvi_sccl_1/260-7700766-9804052?pd_rd_w=YVPuK&content-id=amzn1.sym.59eebe5b-59e3-4882-b364-90a7b22774a2&pf_rd_p=59eebe5b-59e3-4882-b364-90a7b22774a2&pf_rd_r=6X9V8GWZZTPVSAEJ7F0Z&pd_rd_wg=dO0R3&pd_rd_r=948d7829-2904-4ae7-9516-d11fecdfd5fb&pd_rd_i=B0B941W7TM&th=1&psc=1\"\n",
    "headers={\"User-Agent\": \"Mozilla/5.0 (Windows NT 10.0; Win64; x64) AppleWebKit/537.36 (KHTML, like Gecko) Chrome/107.0.0.0 Safari/537.36\"}\n",
    " \n",
    "page = requests.get(URL,headers=headers)    \n",
    "\n",
    "soup1 = BeautifulSoup(page.content,\"html.parser\")"
   ]
  },
  {
   "cell_type": "code",
   "execution_count": 425,
   "id": "bc4d9ba0",
   "metadata": {},
   "outputs": [],
   "source": [
    "soup2 = BeautifulSoup(soup1.prettify(),\"html.parser\")"
   ]
  },
  {
   "cell_type": "code",
   "execution_count": 427,
   "id": "9292c4b7",
   "metadata": {},
   "outputs": [],
   "source": [
    "\n",
    "title = soup2.find(id=\"productTitle\").get_text()\n",
    "pricey =soup2.find(\"span\", class_= \"a-price-whole\").get_text()\n",
    "deliverydate = soup2.find(id=\"mir-layout-DELIVERY_BLOCK-slot-PRIMARY_DELIVERY_MESSAGE_LARGE\").get_text()\n",
    "Desc = soup2.find(id=\"productDescription\").get_text()"
   ]
  },
  {
   "cell_type": "code",
   "execution_count": 428,
   "id": "c0cff2dd",
   "metadata": {},
   "outputs": [],
   "source": [
    "cnt=0\n",
    "for i in Desc:\n",
    "    if i != \"\\n\":\n",
    "        cnt +=1\n",
    "CNT = cnt-1\n",
    "Description = Desc[16:CNT]\n",
    "DateofDelivery = deliverydate.strip()[83:96]\n",
    "Title=title.strip()\n",
    "price=pricey.strip()\n",
    "if pricey.strip()[3] == '\\n':\n",
    "    price = pricey.strip()[0:3]\n",
    "else:\n",
    "    price = pricey.strip()[0:4]"
   ]
  },
  {
   "cell_type": "code",
   "execution_count": 429,
   "id": "7e1115c5",
   "metadata": {},
   "outputs": [],
   "source": [
    "CNT = cnt-1"
   ]
  },
  {
   "cell_type": "code",
   "execution_count": 430,
   "id": "6d3bd421",
   "metadata": {},
   "outputs": [
    {
     "data": {
      "text/plain": [
       "\"This winter Indian homegrown brand ADRO brings you the Best Quality 100% Cotton Hoodies to keep you warm. Made in India Product for the Indian market at the Best Prices. Pair it with Jeans/Joggers or Shorts and this sweatshirts/hoodie made of soft fabric will make other guys go green with envy. We at ADRO offers Top Quality casual wear in the widest variety which makes it easy to choose and at the prices that are easy to reach. ADRO products are made of Premium Fabrics which are Eco-Friendly to ensure the Best Quality and Great Comfort. ADRO deals in Men's Sweatshirts, Men's Printed T-Shirts, Full Sleeve T-Shirts, Polo T-Shirts, Hoodies for men. We also in plan to add Men's Shirts, Jeans and Chinos/Shorts to keep you updated with trends. ADRO - Keep Inventing\\n     \""
      ]
     },
     "execution_count": 430,
     "metadata": {},
     "output_type": "execute_result"
    }
   ],
   "source": [
    "\n",
    "Description = Desc[16:CNT]\n",
    "Description"
   ]
  },
  {
   "cell_type": "code",
   "execution_count": 441,
   "id": "1dd4a8d4",
   "metadata": {},
   "outputs": [
    {
     "data": {
      "text/plain": [
       "'                                  FREE delivery                                                                   Thursday, 3 November                                                                  . Order within                                                                   11 hrs 31 mins                                                                  .                                                                   Details                                 '"
      ]
     },
     "execution_count": 441,
     "metadata": {},
     "output_type": "execute_result"
    }
   ],
   "source": [
    "deliverydate.replace('\\n','')"
   ]
  },
  {
   "cell_type": "code",
   "execution_count": 432,
   "id": "95cd165a",
   "metadata": {},
   "outputs": [],
   "source": [
    "DateofDelivery = deliverydate.strip()[83:96]"
   ]
  },
  {
   "cell_type": "code",
   "execution_count": 433,
   "id": "d00f5498",
   "metadata": {},
   "outputs": [
    {
     "data": {
      "text/plain": [
       "'Monday, 7 Nov'"
      ]
     },
     "execution_count": 433,
     "metadata": {},
     "output_type": "execute_result"
    }
   ],
   "source": [
    "DateofDelivery "
   ]
  },
  {
   "cell_type": "code",
   "execution_count": 406,
   "id": "5c3ea6a1",
   "metadata": {},
   "outputs": [
    {
     "data": {
      "text/plain": [
       "'\\n                   ADRO Mens Bangalore Printed Hoodies\\n                  '"
      ]
     },
     "execution_count": 406,
     "metadata": {},
     "output_type": "execute_result"
    }
   ],
   "source": [
    "title"
   ]
  },
  {
   "cell_type": "code",
   "execution_count": 250,
   "id": "77dd2481",
   "metadata": {},
   "outputs": [],
   "source": [
    "Title=title.strip()"
   ]
  },
  {
   "cell_type": "code",
   "execution_count": 252,
   "id": "16376d4a",
   "metadata": {},
   "outputs": [
    {
     "data": {
      "text/plain": [
       "'ADRO Mens Bangalore Printed Hoodies'"
      ]
     },
     "execution_count": 252,
     "metadata": {},
     "output_type": "execute_result"
    }
   ],
   "source": [
    "Title"
   ]
  },
  {
   "cell_type": "code",
   "execution_count": 88,
   "id": "7acfda9a",
   "metadata": {},
   "outputs": [
    {
     "data": {
      "text/plain": [
       "'\\n                   969\\n                   \\n                    .\\n                   \\n'"
      ]
     },
     "execution_count": 88,
     "metadata": {},
     "output_type": "execute_result"
    }
   ],
   "source": [
    "pricey"
   ]
  },
  {
   "cell_type": "code",
   "execution_count": 84,
   "id": "139602ca",
   "metadata": {},
   "outputs": [],
   "source": [
    "price=pricey.strip()\n"
   ]
  },
  {
   "cell_type": "code",
   "execution_count": 85,
   "id": "39ff5ddc",
   "metadata": {},
   "outputs": [
    {
     "data": {
      "text/plain": [
       "'969\\n                   \\n                    .'"
      ]
     },
     "execution_count": 85,
     "metadata": {},
     "output_type": "execute_result"
    }
   ],
   "source": [
    "price.strip()"
   ]
  },
  {
   "cell_type": "code",
   "execution_count": 120,
   "id": "4432c86f",
   "metadata": {},
   "outputs": [],
   "source": [
    "if pricey.strip()[3] == '\\n':\n",
    "    price = pricey.strip()[0:3]\n",
    "else:\n",
    "    price = pricey.strip()[0:4]"
   ]
  },
  {
   "cell_type": "code",
   "execution_count": 121,
   "id": "fd9a38d9",
   "metadata": {},
   "outputs": [
    {
     "data": {
      "text/plain": [
       "'969'"
      ]
     },
     "execution_count": 121,
     "metadata": {},
     "output_type": "execute_result"
    }
   ],
   "source": [
    "\n",
    "price"
   ]
  },
  {
   "cell_type": "code",
   "execution_count": 215,
   "id": "82a73c75",
   "metadata": {},
   "outputs": [
    {
     "data": {
      "text/plain": [
       "''"
      ]
     },
     "execution_count": 215,
     "metadata": {},
     "output_type": "execute_result"
    }
   ],
   "source": [
    "deliverydate"
   ]
  },
  {
   "cell_type": "code",
   "execution_count": 336,
   "id": "9bba00c2",
   "metadata": {},
   "outputs": [],
   "source": [
    "#one method to import to CSV\n",
    "import pandas as pd\n",
    "val ={'Title':Title,'Price':price,'Delivery':DateofDelivery,'Description':Description}\n",
    "val\n",
    "DataofHoodies=pd.DataFrame(val,index=[1])\n",
    "DataofHoodies.to_csv(r'Newwy.csv',index=False)"
   ]
  },
  {
   "cell_type": "code",
   "execution_count": 278,
   "id": "04b487b6",
   "metadata": {},
   "outputs": [
    {
     "data": {
      "image/png": "[encoded data removed]",
      "text/plain": [
       "<PIL.JpegImagePlugin.JpegImageFile image mode=RGB size=140x175 at 0x1FF5D016EB0>"
      ]
     },
     "execution_count": 278,
     "metadata": {},
     "output_type": "execute_result"
    }
   ],
   "source": [
    "i"
   ]
  },
  {
   "cell_type": "code",
   "execution_count": 279,
   "id": "c7f0f373",
   "metadata": {},
   "outputs": [
    {
     "data": {
      "text/html": [
       "<div>\n",
       "<style scoped>\n",
       "    .dataframe tbody tr th:only-of-type {\n",
       "        vertical-align: middle;\n",
       "    }\n",
       "\n",
       "    .dataframe tbody tr th {\n",
       "        vertical-align: top;\n",
       "    }\n",
       "\n",
       "    .dataframe thead th {\n",
       "        text-align: right;\n",
       "    }\n",
       "</style>\n",
       "<table border=\"1\" class=\"dataframe\">\n",
       "  <thead>\n",
       "    <tr style=\"text-align: right;\">\n",
       "      <th></th>\n",
       "      <th>Title</th>\n",
       "      <th>Price</th>\n",
       "      <th>Delivery</th>\n",
       "    </tr>\n",
       "  </thead>\n",
       "  <tbody>\n",
       "    <tr>\n",
       "      <th>1</th>\n",
       "      <td>ADRO Mens Bangalore Printed Hoodies</td>\n",
       "      <td>969</td>\n",
       "      <td>Monday, 7 Nov</td>\n",
       "    </tr>\n",
       "  </tbody>\n",
       "</table>\n",
       "</div>"
      ],
      "text/plain": [
       "                                 Title Price       Delivery\n",
       "1  ADRO Mens Bangalore Printed Hoodies   969  Monday, 7 Nov"
      ]
     },
     "execution_count": 279,
     "metadata": {},
     "output_type": "execute_result"
    }
   ],
   "source": [
    "df"
   ]
  },
  {
   "cell_type": "code",
   "execution_count": 465,
   "id": "7a123ca8",
   "metadata": {},
   "outputs": [],
   "source": [
    "#Another Method to import to CSV\n",
    "\n",
    "import csv\n",
    "\n",
    "header=[\"Title\",\"Price\",\"Delivery Date\",\"Description Date\"]\n",
    "data=[Title,price,DateofDelivery,Description]\n",
    "\n",
    "with open(\"Amazon_Data2.csv\",'w',newline='',encoding='UTF8') as w:\n",
    "    write = csv.writer(w)\n",
    "    write.writerow(header)\n",
    "    write.writerow(data)"
   ]
  },
  {
   "cell_type": "code",
   "execution_count": null,
   "id": "1fcdeb81",
   "metadata": {},
   "outputs": [],
   "source": [
    "#To get the Image of the Product\n",
    "import urllib.request"
   ]
  },
  {
   "cell_type": "code",
   "execution_count": null,
   "id": "66b02b9d",
   "metadata": {},
   "outputs": [],
   "source": [
    "urllib.request.urlretrieve(\"https://m.media-amazon.com/images/I/51rJhyR7RzL._SX342._SX._UX._SY._UY_.jpg\", \"in.jpg\")"
   ]
  },
  {
   "cell_type": "code",
   "execution_count": 151,
   "id": "2fe547d9",
   "metadata": {},
   "outputs": [],
   "source": [
    "from PIL import Image\n",
    "dimensions = (140, 220)\n",
    "i = Image.open('in.jpg')\n",
    "i.thumbnail(dimensions)"
   ]
  },
  {
   "cell_type": "code",
   "execution_count": 466,
   "id": "ca424e8b",
   "metadata": {},
   "outputs": [],
   "source": [
    "def hood_date(url):\n",
    "    #URL=\"https://www.amazon.in/ADRO-Cotton-Hooded-Sweatshirt-H22-1-BLR-CH-S_Beige_S/dp/B0B944J8CV/ref=rvi_sccl_1/260-7700766-9804052?pd_rd_w=YVPuK&content-id=amzn1.sym.59eebe5b-59e3-4882-b364-90a7b22774a2&pf_rd_p=59eebe5b-59e3-4882-b364-90a7b22774a2&pf_rd_r=6X9V8GWZZTPVSAEJ7F0Z&pd_rd_wg=dO0R3&pd_rd_r=948d7829-2904-4ae7-9516-d11fecdfd5fb&pd_rd_i=B0B941W7TM&th=1&psc=1\"\n",
    "    URL=url\n",
    "    headers={\"User-Agent\": \"Mozilla/5.0 (Windows NT 10.0; Win64; x64) AppleWebKit/537.36 (KHTML, like Gecko) Chrome/107.0.0.0 Safari/537.36\"}\n",
    " \n",
    "    page = requests.get(URL,headers=headers)    \n",
    "\n",
    "    soup1 = BeautifulSoup(page.content,\"html.parser\")\n",
    "    \n",
    "    soup2 = BeautifulSoup(soup1.prettify(),\"html.parser\")\n",
    "    title = soup2.find(id=\"productTitle\").get_text()\n",
    "    pricey =soup2.find(\"span\", class_= \"a-price-whole\").get_text()\n",
    "    deliverydate = soup2.find(id=\"mir-layout-DELIVERY_BLOCK-slot-PRIMARY_DELIVERY_MESSAGE_LARGE\").get_text()\n",
    "    Desc = soup2.find(id=\"productDescription\").get_text()\n",
    "    cnt=0\n",
    "    for i in Desc:\n",
    "        if i != \"\\n\":\n",
    "            cnt +=1\n",
    "    CNT = cnt-1\n",
    "    Description = Desc[16:CNT]\n",
    "    DateofDelivery = deliverydate.strip()[83:104]\n",
    "    print(DateofDelivery)\n",
    "    Title=title.strip()\n",
    "    price=pricey.strip()\n",
    "    if pricey.strip()[3] == '\\n':\n",
    "        price = pricey.strip()[0:3]\n",
    "    else:\n",
    "        price = pricey.strip()[0:4]\n",
    "    print(price)\n",
    "    \n",
    "    header=[\"Title\",\"Price\",\"Delivery Date\",\"Description\"]\n",
    "    data=[Title,price,DateofDelivery,Description]\n",
    "\n",
    "    with open(\"Amazon_Data2.csv\",'a+',newline='',encoding='UTF8') as w:\n",
    "        write = csv.writer(w)\n",
    "        write.writerow(data)\n",
    "    \n",
    "    \n",
    "    \n",
    "    "
   ]
  },
  {
   "cell_type": "code",
   "execution_count": 467,
   "id": "4722edba",
   "metadata": {},
   "outputs": [
    {
     "name": "stdout",
     "output_type": "stream",
     "text": [
      "Monday, 7 November\n",
      "  \n",
      "969\n"
     ]
    }
   ],
   "source": [
    "hood_date(\"https://www.amazon.in/ADRO-Cotton-Hooded-Sweatshirt-H22-1-BLR-CH-S_Beige_S/dp/B0B944J8CV/ref=rvi_sccl_1/260-7700766-9804052?pd_rd_w=YVPuK&content-id=amzn1.sym.59eebe5b-59e3-4882-b364-90a7b22774a2&pf_rd_p=59eebe5b-59e3-4882-b364-90a7b22774a2&pf_rd_r=6X9V8GWZZTPVSAEJ7F0Z&pd_rd_wg=dO0R3&pd_rd_r=948d7829-2904-4ae7-9516-d11fecdfd5fb&pd_rd_i=B0B941W7TM&th=1&psc=1\")"
   ]
  },
  {
   "cell_type": "code",
   "execution_count": 468,
   "id": "1fe9f523",
   "metadata": {},
   "outputs": [],
   "source": [
    "df = pd.read_csv(\"Amazon_Data2.csv\")"
   ]
  },
  {
   "cell_type": "code",
   "execution_count": 469,
   "id": "ee1d9c7c",
   "metadata": {},
   "outputs": [
    {
     "data": {
      "text/html": [
       "<div>\n",
       "<style scoped>\n",
       "    .dataframe tbody tr th:only-of-type {\n",
       "        vertical-align: middle;\n",
       "    }\n",
       "\n",
       "    .dataframe tbody tr th {\n",
       "        vertical-align: top;\n",
       "    }\n",
       "\n",
       "    .dataframe thead th {\n",
       "        text-align: right;\n",
       "    }\n",
       "</style>\n",
       "<table border=\"1\" class=\"dataframe\">\n",
       "  <thead>\n",
       "    <tr style=\"text-align: right;\">\n",
       "      <th></th>\n",
       "      <th>Title</th>\n",
       "      <th>Price</th>\n",
       "      <th>Delivery Date</th>\n",
       "      <th>Description Date</th>\n",
       "    </tr>\n",
       "  </thead>\n",
       "  <tbody>\n",
       "    <tr>\n",
       "      <th>0</th>\n",
       "      <td>ADRO Mens Bangalore Printed Hoodies</td>\n",
       "      <td>969</td>\n",
       "      <td>Monday, 7 Nov</td>\n",
       "      <td>This winter Indian homegrown brand ADRO brings...</td>\n",
       "    </tr>\n",
       "    <tr>\n",
       "      <th>1</th>\n",
       "      <td>ADRO Mens Bangalore Printed Hoodies</td>\n",
       "      <td>969</td>\n",
       "      <td>Monday, 7 November\\n</td>\n",
       "      <td>This winter Indian homegrown brand ADRO brings...</td>\n",
       "    </tr>\n",
       "  </tbody>\n",
       "</table>\n",
       "</div>"
      ],
      "text/plain": [
       "                                 Title  Price           Delivery Date  \\\n",
       "0  ADRO Mens Bangalore Printed Hoodies    969           Monday, 7 Nov   \n",
       "1  ADRO Mens Bangalore Printed Hoodies    969  Monday, 7 November\\n     \n",
       "\n",
       "                                    Description Date  \n",
       "0  This winter Indian homegrown brand ADRO brings...  \n",
       "1  This winter Indian homegrown brand ADRO brings...  "
      ]
     },
     "execution_count": 469,
     "metadata": {},
     "output_type": "execute_result"
    }
   ],
   "source": [
    "df"
   ]
  },
  {
   "cell_type": "code",
   "execution_count": 343,
   "id": "c0274949",
   "metadata": {},
   "outputs": [
    {
     "data": {
      "text/plain": [
       "791"
      ]
     },
     "execution_count": 343,
     "metadata": {},
     "output_type": "execute_result"
    }
   ],
   "source": [
    "CNT"
   ]
  },
  {
   "cell_type": "code",
   "execution_count": 471,
   "id": "8f721b70",
   "metadata": {},
   "outputs": [
    {
     "name": "stdout",
     "output_type": "stream",
     "text": [
      "Friday, 4 November\n",
      "  \n",
      "679\n"
     ]
    }
   ],
   "source": [
    "hood_date(\"https://www.amazon.in/Be-savage-Cotton-Green-S_Dark-Green_S/dp/B0B7JRSY4F/ref=d_pd_sbs_sccl_2_3/260-7700766-9804052?pd_rd_w=h7Dsz&content-id=amzn1.sym.02182ec1-65c5-4957-978b-1e230c9c10a7&pf_rd_p=02182ec1-65c5-4957-978b-1e230c9c10a7&pf_rd_r=Q17WPRPEVAP2R5BFCZMS&pd_rd_wg=lqMN8&pd_rd_r=925f6400-8b03-42ce-b502-c594d7ebcb98&pd_rd_i=B09DVMJMCL&psc=1\")"
   ]
  },
  {
   "cell_type": "code",
   "execution_count": 473,
   "id": "e4484132",
   "metadata": {},
   "outputs": [],
   "source": [
    "dfdf = pd.read_csv(\"Amazon_Data2.csv\")"
   ]
  },
  {
   "cell_type": "code",
   "execution_count": 474,
   "id": "d4ae543f",
   "metadata": {},
   "outputs": [
    {
     "data": {
      "text/html": [
       "<div>\n",
       "<style scoped>\n",
       "    .dataframe tbody tr th:only-of-type {\n",
       "        vertical-align: middle;\n",
       "    }\n",
       "\n",
       "    .dataframe tbody tr th {\n",
       "        vertical-align: top;\n",
       "    }\n",
       "\n",
       "    .dataframe thead th {\n",
       "        text-align: right;\n",
       "    }\n",
       "</style>\n",
       "<table border=\"1\" class=\"dataframe\">\n",
       "  <thead>\n",
       "    <tr style=\"text-align: right;\">\n",
       "      <th></th>\n",
       "      <th>Title</th>\n",
       "      <th>Price</th>\n",
       "      <th>Delivery Date</th>\n",
       "      <th>Description Date</th>\n",
       "    </tr>\n",
       "  </thead>\n",
       "  <tbody>\n",
       "    <tr>\n",
       "      <th>0</th>\n",
       "      <td>ADRO Mens Bangalore Printed Hoodies</td>\n",
       "      <td>969</td>\n",
       "      <td>Monday, 7 Nov</td>\n",
       "      <td>This winter Indian homegrown brand ADRO brings...</td>\n",
       "    </tr>\n",
       "    <tr>\n",
       "      <th>1</th>\n",
       "      <td>ADRO Mens Bangalore Printed Hoodies</td>\n",
       "      <td>969</td>\n",
       "      <td>Monday, 7 November\\n</td>\n",
       "      <td>This winter Indian homegrown brand ADRO brings...</td>\n",
       "    </tr>\n",
       "    <tr>\n",
       "      <th>2</th>\n",
       "      <td>Be savage Basic Men's Cotton Hoodie</td>\n",
       "      <td>679</td>\n",
       "      <td>Friday, 4 November\\n</td>\n",
       "      <td>Look cool wearing this hoodie from the house o...</td>\n",
       "    </tr>\n",
       "  </tbody>\n",
       "</table>\n",
       "</div>"
      ],
      "text/plain": [
       "                                 Title  Price           Delivery Date  \\\n",
       "0  ADRO Mens Bangalore Printed Hoodies    969           Monday, 7 Nov   \n",
       "1  ADRO Mens Bangalore Printed Hoodies    969  Monday, 7 November\\n     \n",
       "2  Be savage Basic Men's Cotton Hoodie    679  Friday, 4 November\\n     \n",
       "\n",
       "                                    Description Date  \n",
       "0  This winter Indian homegrown brand ADRO brings...  \n",
       "1  This winter Indian homegrown brand ADRO brings...  \n",
       "2  Look cool wearing this hoodie from the house o...  "
      ]
     },
     "execution_count": 474,
     "metadata": {},
     "output_type": "execute_result"
    }
   ],
   "source": [
    "dfdf"
   ]
  }
 ],
 "metadata": {
  "kernelspec": {
   "display_name": "Python 3",
   "language": "python",
   "name": "python3"
  },
  "language_info": {
   "codemirror_mode": {
    "name": "ipython",
    "version": 3
   },
   "file_extension": ".py",
   "mimetype": "text/x-python",
   "name": "python",
   "nbconvert_exporter": "python",
   "pygments_lexer": "ipython3",
   "version": "3.8.8"
  }
 },
 "nbformat": 4,
 "nbformat_minor": 5
}
